{
 "cells": [
  {
   "cell_type": "code",
   "execution_count": 1,
   "metadata": {},
   "outputs": [],
   "source": [
    "inventory={\n",
    "    'potato':[30,2,'kg'],\n",
    "    'tomato':[30,1,'kg'],\n",
    "    'onion':[20,3,'kg'],\n",
    "    'sauses':[50,5,'kg'],\n",
    "    'cheese':[100,2,'kg']\n",
    "}"
   ]
  },
  {
   "cell_type": "code",
   "execution_count": 1,
   "metadata": {},
   "outputs": [],
   "source": [
    "menu : dict={\n",
    "    'pizza':\n",
    "        (\n",
    "            {#ingrediant no :0\n",
    "                'ingredient':'tomato',\n",
    "                'quantity':1000,\n",
    "                'unit':'gm'\n",
    "            },\n",
    "            {#ingrediant no :1\n",
    "                'ingredient':'onion',\n",
    "                'quantity':1,\n",
    "                'unit':'kg'\n",
    "            },\n",
    "            {#ingrediant no :2\n",
    "                'ingredient':'cheese',\n",
    "                'quantity':250,\n",
    "                'unit':'gm'\n",
    "            },\n",
    "            {#ingrediant no :3\n",
    "                'ingredient':'sauses',\n",
    "                'quantity':2000,\n",
    "                'unit':'gm'   \n",
    "            }\n",
    "        )}"
   ]
  },
  {
   "cell_type": "code",
   "execution_count": 1,
   "metadata": {},
   "outputs": [
    {
     "ename": "NameError",
     "evalue": "name 'menu' is not defined",
     "output_type": "error",
     "traceback": [
      "\u001b[1;31m---------------------------------------------------------------------------\u001b[0m",
      "\u001b[1;31mNameError\u001b[0m                                 Traceback (most recent call last)",
      "Cell \u001b[1;32mIn[1], line 1\u001b[0m\n\u001b[1;32m----> 1\u001b[0m \u001b[38;5;28;01mfor\u001b[39;00m item \u001b[38;5;129;01min\u001b[39;00m \u001b[43mmenu\u001b[49m:\n\u001b[0;32m      2\u001b[0m     ingredients \u001b[38;5;241m=\u001b[39m [\u001b[38;5;124m\"\u001b[39m\u001b[38;5;124mingredient\u001b[39m\u001b[38;5;124m\"\u001b[39m]  \n\u001b[0;32m      3\u001b[0m     quantities \u001b[38;5;241m=\u001b[39m [\u001b[38;5;124m\"\u001b[39m\u001b[38;5;124mquantity\u001b[39m\u001b[38;5;124m\"\u001b[39m]\n",
      "\u001b[1;31mNameError\u001b[0m: name 'menu' is not defined"
     ]
    }
   ],
   "source": [
    "for item in menu:\n",
    "    ingredients = [\"ingredient\"]  \n",
    "    quantities = [\"quantity\"]\n",
    "    units = [\"unit\"]\n",
    "\n",
    "    doable = True\n",
    "\n",
    "    for i in range(len(ingredient)):\n",
    "        ingredient = ingredient[i]  \n",
    "        required_quantity = quantities[i]\n",
    "        required_unit = units[i]\n",
    "\n",
    "        if ingredient in inventory:\n",
    "            available_quantity = inventory[ingredient][\"qty\"]\n",
    "            available_unit = inventory[ingredient][\"unit\"]\n",
    "\n",
    "            # Convert all quantities to the same unit for comparison\n",
    "            if required_unit == \"kg\" and available_unit == \"g\":\n",
    "                available_quantity /= 1000\n",
    "\n",
    "            if available_quantity < required_quantity:\n",
    "                doable = False\n",
    "                print(f\"Not enough {ingredient} for {item}\")\n",
    "\n",
    "        else:\n",
    "            doable = False\n",
    "            print(f\"Ingredient {ingredient} not available for {item}\")\n",
    "\n",
    "    if doable:\n",
    "        print(f\"{item} is doable\")\n",
    "    else:\n",
    "        print(f\"{item} is not doable\")"
   ]
  },
  {
   "cell_type": "code",
   "execution_count": 7,
   "metadata": {},
   "outputs": [],
   "source": [
    "menu_item = \"pizza\""
   ]
  },
  {
   "cell_type": "code",
   "execution_count": 15,
   "metadata": {},
   "outputs": [
    {
     "name": "stdout",
     "output_type": "stream",
     "text": [
      "not found\n"
     ]
    }
   ],
   "source": [
    "list = menu[menu_item][0]['ingredient']\n",
    "element = \"tomato\"\n",
    "tmp = 0\n",
    "indx = -1\n",
    "for i in list:\n",
    "    if i== element:\n",
    "        indx=tmp\n",
    "    else:\n",
    "        tmp+=1\n",
    "if indx == -1:\n",
    "    print(\"not found\") \n",
    "else:\n",
    "    print(f\"Found at {indx}\")"
   ]
  },
  {
   "cell_type": "code",
   "execution_count": 3,
   "metadata": {},
   "outputs": [
    {
     "name": "stdout",
     "output_type": "stream",
     "text": [
      "Yes\n"
     ]
    }
   ],
   "source": [
    "menu_item = \"pizza\"\n",
    "ingrediant = \"potato\", \"onion\"\n",
    "quantity = (\"1000\",\"1\")\n",
    "if \"potato\" in inventory:\n",
    "    print(\"Yes\")\n",
    "else:\n",
    "    print(\"No\")\n",
    "\n"
   ]
  }
 ],
 "metadata": {
  "kernelspec": {
   "display_name": "Python 3",
   "language": "python",
   "name": "python3"
  },
  "language_info": {
   "codemirror_mode": {
    "name": "ipython",
    "version": 3
   },
   "file_extension": ".py",
   "mimetype": "text/x-python",
   "name": "python",
   "nbconvert_exporter": "python",
   "pygments_lexer": "ipython3",
   "version": "3.10.10"
  }
 },
 "nbformat": 4,
 "nbformat_minor": 2
}
