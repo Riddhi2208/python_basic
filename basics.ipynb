{
 "cells": [
  {
   "cell_type": "code",
   "execution_count": 1,
   "metadata": {},
   "outputs": [
    {
     "name": "stdout",
     "output_type": "stream",
     "text": [
      "Hello\n"
     ]
    }
   ],
   "source": [
    "print(\"Hello\")"
   ]
  },
  {
   "cell_type": "code",
   "execution_count": 2,
   "metadata": {},
   "outputs": [
    {
     "name": "stdout",
     "output_type": "stream",
     "text": [
      "7\n"
     ]
    }
   ],
   "source": [
    "    print(3+4)"
   ]
  },
  {
   "cell_type": "code",
   "execution_count": 3,
   "metadata": {},
   "outputs": [
    {
     "name": "stdout",
     "output_type": "stream",
     "text": [
      "0.5\n",
      "0\n"
     ]
    }
   ],
   "source": [
    "# Interger Division\n",
    "a=1\n",
    "b=2\n",
    "print(a/b)\n",
    "print(a//b)\n"
   ]
  },
  {
   "cell_type": "code",
   "execution_count": 4,
   "metadata": {},
   "outputs": [
    {
     "name": "stdout",
     "output_type": "stream",
     "text": [
      "11\n"
     ]
    }
   ],
   "source": [
    "# Interger Addition\n",
    "a=5\n",
    "b=6\n",
    "print(a+b)"
   ]
  },
  {
   "cell_type": "code",
   "execution_count": 5,
   "metadata": {},
   "outputs": [
    {
     "name": "stdout",
     "output_type": "stream",
     "text": [
      "6.0\n"
     ]
    }
   ],
   "source": [
    "# Integer & Float Addition\n",
    "a=0.5\n",
    "b=5.5\n",
    "print(a+b)"
   ]
  },
  {
   "cell_type": "code",
   "execution_count": 6,
   "metadata": {},
   "outputs": [
    {
     "name": "stdout",
     "output_type": "stream",
     "text": [
      "pqr\n"
     ]
    }
   ],
   "source": [
    "# Character Addition\n",
    "a='pq'\n",
    "b='r'\n",
    "print(a+b)\n"
   ]
  },
  {
   "cell_type": "code",
   "execution_count": 7,
   "metadata": {},
   "outputs": [
    {
     "name": "stdout",
     "output_type": "stream",
     "text": [
      "pqr pqr pqr pqr pqr \n"
     ]
    }
   ],
   "source": [
    "#Character & Integer Multiplication\n",
    "a='pqr '\n",
    "b=5\n",
    "print(a*b)"
   ]
  },
  {
   "cell_type": "code",
   "execution_count": 8,
   "metadata": {},
   "outputs": [
    {
     "ename": "TypeError",
     "evalue": "unsupported operand type(s) for /: 'str' and 'int'",
     "output_type": "error",
     "traceback": [
      "\u001b[1;31m---------------------------------------------------------------------------\u001b[0m",
      "\u001b[1;31mTypeError\u001b[0m                                 Traceback (most recent call last)",
      "Cell \u001b[1;32mIn[8], line 4\u001b[0m\n\u001b[0;32m      2\u001b[0m a\u001b[38;5;241m=\u001b[39m\u001b[38;5;124m'\u001b[39m\u001b[38;5;124maaa\u001b[39m\u001b[38;5;124m'\u001b[39m\n\u001b[0;32m      3\u001b[0m b\u001b[38;5;241m=\u001b[39m\u001b[38;5;241m3\u001b[39m\n\u001b[1;32m----> 4\u001b[0m \u001b[38;5;28mprint\u001b[39m(\u001b[43ma\u001b[49m\u001b[38;5;241;43m/\u001b[39;49m\u001b[43mb\u001b[49m)\n",
      "\u001b[1;31mTypeError\u001b[0m: unsupported operand type(s) for /: 'str' and 'int'"
     ]
    }
   ],
   "source": [
    "# Character & Float Division\n",
    "a='aaa'\n",
    "b=3\n",
    "print(a/b)"
   ]
  },
  {
   "cell_type": "code",
   "execution_count": null,
   "metadata": {},
   "outputs": [
    {
     "name": "stdout",
     "output_type": "stream",
     "text": [
      "LLLL\n"
     ]
    }
   ],
   "source": [
    "# List & Interger Multiplication\n",
    "a='L'\n",
    "b=4\n",
    "print(a*b)"
   ]
  },
  {
   "cell_type": "code",
   "execution_count": null,
   "metadata": {},
   "outputs": [
    {
     "ename": "NameError",
     "evalue": "name 'literal' is not defined",
     "output_type": "error",
     "traceback": [
      "\u001b[1;31m---------------------------------------------------------------------------\u001b[0m",
      "\u001b[1;31mNameError\u001b[0m                                 Traceback (most recent call last)",
      "Cell \u001b[1;32mIn[38], line 2\u001b[0m\n\u001b[0;32m      1\u001b[0m \u001b[38;5;66;03m#Tuple & integer Multiplication\u001b[39;00m\n\u001b[1;32m----> 2\u001b[0m a: \u001b[38;5;28mtuple\u001b[39m[\u001b[43mliteral\u001b[49m[\u001b[38;5;241m1\u001b[39m],literal[\u001b[38;5;241m2\u001b[39m]]\u001b[38;5;241m=\u001b[39m(\u001b[38;5;241m1\u001b[39m,\u001b[38;5;241m2\u001b[39m)\n\u001b[0;32m      3\u001b[0m b \u001b[38;5;241m=\u001b[39m \u001b[38;5;241m3\u001b[39m\n\u001b[0;32m      4\u001b[0m \u001b[38;5;28mprint\u001b[39m(a\u001b[38;5;241m*\u001b[39mb)\n",
      "\u001b[1;31mNameError\u001b[0m: name 'literal' is not defined"
     ]
    }
   ],
   "source": [
    "#Tuple & integer Multiplication\n",
    "a: tuple[literal[1],literal[2]]=(1,2)\n",
    "b = 3\n",
    "print(a*b)"
   ]
  },
  {
   "cell_type": "code",
   "execution_count": null,
   "metadata": {},
   "outputs": [
    {
     "ename": "TypeError",
     "evalue": "unsupported operand type(s) for *: 'set' and 'int'",
     "output_type": "error",
     "traceback": [
      "\u001b[1;31m---------------------------------------------------------------------------\u001b[0m",
      "\u001b[1;31mTypeError\u001b[0m                                 Traceback (most recent call last)",
      "Cell \u001b[1;32mIn[39], line 4\u001b[0m\n\u001b[0;32m      2\u001b[0m a\u001b[38;5;241m=\u001b[39m{\u001b[38;5;241m1\u001b[39m,\u001b[38;5;241m2\u001b[39m,\u001b[38;5;241m3\u001b[39m}\n\u001b[0;32m      3\u001b[0m b\u001b[38;5;241m=\u001b[39m\u001b[38;5;241m2\u001b[39m\n\u001b[1;32m----> 4\u001b[0m \u001b[38;5;28mprint\u001b[39m(\u001b[43ma\u001b[49m\u001b[38;5;241;43m*\u001b[39;49m\u001b[43mb\u001b[49m)\n",
      "\u001b[1;31mTypeError\u001b[0m: unsupported operand type(s) for *: 'set' and 'int'"
     ]
    }
   ],
   "source": [
    "#Set & Integer Multiplication\n",
    "a={1,2,3}\n",
    "b=2\n",
    "print(a*b)"
   ]
  },
  {
   "cell_type": "code",
   "execution_count": null,
   "metadata": {},
   "outputs": [
    {
     "name": "stdout",
     "output_type": "stream",
     "text": [
      "[1, 2, 1, 2]\n"
     ]
    }
   ],
   "source": [
    "#Dictionary & Integer Multiplication\n",
    "a=[1,2]\n",
    "b=2\n",
    "print(a*b)"
   ]
  },
  {
   "cell_type": "code",
   "execution_count": null,
   "metadata": {},
   "outputs": [
    {
     "name": "stdout",
     "output_type": "stream",
     "text": [
      "True\n",
      "False\n"
     ]
    }
   ],
   "source": [
    "print(True and True)\n",
    "print(True and False)\n"
   ]
  },
  {
   "cell_type": "code",
   "execution_count": null,
   "metadata": {},
   "outputs": [
    {
     "name": "stdout",
     "output_type": "stream",
     "text": [
      "Or\n",
      "And\n"
     ]
    }
   ],
   "source": [
    "print(And and Or)\n",
    "print(Or and And)"
   ]
  },
  {
   "cell_type": "code",
   "execution_count": null,
   "metadata": {},
   "outputs": [
    {
     "name": "stdout",
     "output_type": "stream",
     "text": [
      "Or\n",
      "Not\n"
     ]
    }
   ],
   "source": [
    "print(Not and Or)\n",
    "print(Or and Not)\n"
   ]
  },
  {
   "cell_type": "code",
   "execution_count": null,
   "metadata": {},
   "outputs": [
    {
     "name": "stdout",
     "output_type": "stream",
     "text": [
      "False\n"
     ]
    }
   ],
   "source": [
    "print(not True)"
   ]
  },
  {
   "cell_type": "code",
   "execution_count": null,
   "metadata": {},
   "outputs": [
    {
     "name": "stdout",
     "output_type": "stream",
     "text": [
      "x is greater than 5\n"
     ]
    }
   ],
   "source": [
    "# Define a variable\n",
    "x = 10\n",
    "\n",
    "# Simple if condition\n",
    "if x > 5:\n",
    "    print(\"x is greater than 5\")"
   ]
  },
  {
   "cell_type": "code",
   "execution_count": null,
   "metadata": {},
   "outputs": [],
   "source": [
    "#list of list\n",
    "a=[[1,2,3,4,5],[6,7,8,9,10],[11,12,13,14,15]]\n",
    "\n",
    "\n",
    "\n",
    "\n"
   ]
  },
  {
   "cell_type": "code",
   "execution_count": null,
   "metadata": {},
   "outputs": [
    {
     "data": {
      "text/plain": [
       "8"
      ]
     },
     "execution_count": 19,
     "metadata": {},
     "output_type": "execute_result"
    }
   ],
   "source": [
    "a[1][2]"
   ]
  },
  {
   "cell_type": "code",
   "execution_count": null,
   "metadata": {},
   "outputs": [],
   "source": [
    "#{name: [list]}\n",
    "\n",
    "inventory: [dict,list]=\n",
    "\"orange\":''"
   ]
  },
  {
   "cell_type": "code",
   "execution_count": null,
   "metadata": {},
   "outputs": [],
   "source": [
    "#{name: [price,Quantities,Units],}\n",
    "\n",
    "inventory: dict[str,list]={\n",
    "    \"potato\": [10,2,'kg'],\n",
    "    \"onion\": [20,3000,'g']\n",
    "}\n"
   ]
  },
  {
   "cell_type": "code",
   "execution_count": null,
   "metadata": {},
   "outputs": [],
   "source": [
    "#Menu\n",
    "\n",
    "menu ={\n",
    "    \"Pizza\": (\n",
    "        {\n",
    "            \"ingredients_name\":\"Tomato\",\n",
    "            \"Quantity\":300,\n",
    "            \"Unit\":\"g\"\n",
    "        },\n",
    "                {\n",
    "            \"ingredients_name\":\"Potato\",\n",
    "            \"Quantity\":1,\n",
    "            \"Unit\":\"kg\"\n",
    "        }\n",
    "\n",
    "    ),\n",
    "\n",
    "        \"Bhel\": (\n",
    "        {\n",
    "            \"ingredients_name\":\"Potato\",\n",
    "            \"Quantity\":2,\n",
    "            \"Unit\":\"kg\"\n",
    "        },\n",
    "                {\n",
    "            \"ingredients_name\":\"Onion\",\n",
    "            \"Quantity\":1,\n",
    "            \"Unit\":\"kg\"\n",
    "        }\n",
    "\n",
    "    ),\n",
    "\n",
    "        \"Sandwich\": (\n",
    "        {\n",
    "            \"ingredients_name\":\"Onion\",\n",
    "            \"Quantity\":500,\n",
    "            \"Unit\":\"g\"\n",
    "        },\n",
    "                {\n",
    "            \"ingredients_name\":\"Potato\",\n",
    "            \"Quantity\":1,\n",
    "            \"Unit\":\"kg\"\n",
    "        }\n",
    "\n",
    "\n",
    "    )\n",
    "}"
   ]
  },
  {
   "cell_type": "code",
   "execution_count": null,
   "metadata": {},
   "outputs": [],
   "source": [
    "inventory={\n",
    "    'potato':[30,2,'kg'],\n",
    "    'tomato':[30,1,'kg'],\n",
    "    'onion':[20,3,'kg'],\n",
    "    'sauses':[50,5,'kg'],\n",
    "    'cheese':[100,2,'kg']\n",
    "}"
   ]
  },
  {
   "cell_type": "code",
   "execution_count": null,
   "metadata": {},
   "outputs": [
    {
     "name": "stdout",
     "output_type": "stream",
     "text": [
      "{'Pizza': ({'ingredients_name': 'Tomato', 'Quantity': 300, 'Unit': 'g'}, {'ingredients_name': 'Potato', 'Quantity': 500, 'Unit': 'g'}), 'Bhel': ({'ingredients_name': 'Potato', 'Quantity': 2, 'Unit': 'kg'}, {'ingredients_name': 'Onion', 'Quantity': 1, 'Unit': 'kg'}), 'Sandwich': ({'ingredients_name': 'Onion', 'Quantity': 500, 'Unit': 'g'}, {'ingredients_name': 'Potato', 'Quantity': 1, 'Unit': 'kg'})}\n"
     ]
    }
   ],
   "source": [
    "print(menu)"
   ]
  },
  {
   "cell_type": "code",
   "execution_count": null,
   "metadata": {},
   "outputs": [
    {
     "data": {
      "text/plain": [
       "'Tomato'"
      ]
     },
     "execution_count": 37,
     "metadata": {},
     "output_type": "execute_result"
    }
   ],
   "source": [
    "menu[\"Pizza\"][0][\"ingredients_name\"]"
   ]
  },
  {
   "cell_type": "code",
   "execution_count": null,
   "metadata": {},
   "outputs": [
    {
     "data": {
      "text/plain": [
       "300"
      ]
     },
     "execution_count": 40,
     "metadata": {},
     "output_type": "execute_result"
    }
   ],
   "source": [
    "menu[\"Pizza\"][0][\"Quantity\"]"
   ]
  },
  {
   "cell_type": "code",
   "execution_count": null,
   "metadata": {},
   "outputs": [
    {
     "name": "stdout",
     "output_type": "stream",
     "text": [
      "Not available\n"
     ]
    }
   ],
   "source": [
    "if menu['Pizza'][1][\"Quantity\"] in inventory:\n",
    "    print(menu[\"Pizza\"[1]])\n",
    "else:\n",
    "    print(\"Not available\")\n"
   ]
  },
  {
   "cell_type": "code",
   "execution_count": null,
   "metadata": {},
   "outputs": [
    {
     "name": "stdout",
     "output_type": "stream",
     "text": [
      "Not available\n",
      "Not available\n",
      "Not available\n"
     ]
    }
   ],
   "source": [
    "menuitem = \"Pizza\"\n",
    "if menu[menuitem][1][\"Quantity\"] in inventory:\n",
    "    print(menu[menuitem[1]])\n",
    "else:\n",
    "    print(\"Not available\")\n",
    "    menuitem = \"Bhel\"\n",
    "if menu[menuitem][1][\"Quantity\"] in inventory:\n",
    "    print(menu[menuitem[1]])\n",
    "else:\n",
    "    print(\"Not available\")\n",
    "    menuitem = \"Sandwich\"\n",
    "if menu[menuitem][1][\"Quantity\"] in inventory:\n",
    "    print(menu[menuitem[1]])\n",
    "else:\n",
    "    print(\"Not available\")"
   ]
  },
  {
   "cell_type": "code",
   "execution_count": null,
   "metadata": {},
   "outputs": [
    {
     "name": "stdout",
     "output_type": "stream",
     "text": [
      "Not available\n"
     ]
    }
   ],
   "source": [
    "menuitem = \"Bhel\"\n",
    "if menu[menuitem][1][\"Quantity\"] in inventory:\n",
    "    print(menu[menuitem[1]]u)\n",
    "else:\n",
    "    print(\"Not available\")"
   ]
  },
  {
   "cell_type": "code",
   "execution_count": null,
   "metadata": {},
   "outputs": [],
   "source": [
    "hw_inventory = {\n",
    "    \"Potato\": {\"price\": 10, \"Qty\": 2, \"Unit\": 'kg'},\n",
    "    \"Onion\": {\"price\": 20, \"Qty\": 3000, \"Unit\": 'g'}\n",
    "}\n",
    "hw_menu = {\n",
    "    \"Pizza\": {\n",
    "            \"ingredients\": (\"Tomato\", \"Onion\"),\n",
    "            \"quantities\": (300, 2),\n",
    "            \"units\": (\"g\", \"kg\")\n",
    "        },\n",
    "    \"Burger\": {\n",
    "            \"ingredients\": (\"Lettuce\", \"Onion\"),\n",
    "            \"quantities\": (300, 2),\n",
    "            \"units\": (\"g\", \"kg\")\n",
    "        },\n",
    "    \"Pani puri\":{\n",
    "            \"ingredients\": (\"Potato\", \"Rawa\"),\n",
    "            \"quantities\": (300, 2),\n",
    "            \"units\": (\"g\", \"kg\")\n",
    "        },\n",
    "    }"
   ]
  },
  {
   "cell_type": "code",
   "execution_count": null,
   "metadata": {},
   "outputs": [],
   "source": [
    "menu_item = \"Pizza\"\n",
    "ingredients_num = 1\n",
    "\n",
    "if menu[menu_item][ingredients_num]['ingredient_name'] in inventory:\n",
    "    quantity_needed: any "
   ]
  },
  {
   "cell_type": "code",
   "execution_count": null,
   "metadata": {},
   "outputs": [
    {
     "name": "stdout",
     "output_type": "stream",
     "text": [
      "3\n"
     ]
    }
   ],
   "source": [
    "my_list = [1, 2, 3, 4]\n",
    "print(my_list[2])"
   ]
  },
  {
   "cell_type": "code",
   "execution_count": null,
   "metadata": {},
   "outputs": [],
   "source": [
    "inventory={\n",
    "    'potato':[30,2,'kg'],\n",
    "    'tomato':[30,1,'kg'],\n",
    "    'onion':[20,3,'kg'],\n",
    "    'sauses':[50,5,'kg'],\n",
    "    'cheese':[100,2,'kg']\n",
    "}"
   ]
  },
  {
   "cell_type": "code",
   "execution_count": null,
   "metadata": {},
   "outputs": [],
   "source": [
    "menu : dict={\n",
    "    'pizza':\n",
    "        (\n",
    "            {#ingrediant no :0\n",
    "                'ingrediant':'tomato',\n",
    "                'quantity':1000,\n",
    "                'unit':'gm'\n",
    "            },\n",
    "            {#ingrediant no :1\n",
    "                'ingrediant':'onion',\n",
    "                'quantity':1,\n",
    "                'unit':'kg'\n",
    "            },\n",
    "            {#ingrediant no :2\n",
    "                'ingrediant':'cheese',\n",
    "                'quantity':250,\n",
    "                'unit':'gm'\n",
    "            },\n",
    "            {#ingrediant no :3\n",
    "                'ingrediant':'sauses',\n",
    "                'quantity':2000,\n",
    "                'unit':'gm'   \n",
    "            }\n",
    "        )}"
   ]
  },
  {
   "cell_type": "code",
   "execution_count": null,
   "metadata": {},
   "outputs": [
    {
     "name": "stdout",
     "output_type": "stream",
     "text": [
      "Doable\n",
      "price of onion  used in pizza is: 20\n"
     ]
    }
   ],
   "source": [
    "menu_item = 'pizza'\n",
    "menu_ingredient = 'onion'\n",
    "quantity_needed =1   # Quantity needed for the ingredient\n",
    "ingredient_no = 1   # Ingredient number in the menu\n",
    "\n",
    "\n",
    "if menu_ingredient in inventory:\n",
    "    if menu[menu_item][ingredient_no]['unit'] == 'gm':\n",
    "        # Convert quantity needed from grams to kilograms\n",
    "        quantity_needed /= 1000\n",
    "\n",
    "    if quantity_needed <= inventory[menu_ingredient][1]:\n",
    "        print(\"Doable\")\n",
    "        price = quantity_needed* inventory[menu_ingredient][0]\n",
    "        print(\"price of\",menu_ingredient,' used in pizza is:',price)\n",
    "    else:\n",
    "        print(\"Not Doable\")\n",
    "else:\n",
    "    print(\"Ingredient not found in inventory\")"
   ]
  },
  {
   "cell_type": "code",
   "execution_count": null,
   "metadata": {},
   "outputs": [
    {
     "name": "stdout",
     "output_type": "stream",
     "text": [
      "Yes\n"
     ]
    }
   ],
   "source": [
    "inventory={\n",
    "    'potato':[30,2,'kg'],\n",
    "    'tomato':[30,1,'kg'],\n",
    "    'onion':[20,3,'kg'],\n",
    "    'sauses':[50,5,'kg'],\n",
    "    'cheese':[100,2,'kg']\n",
    "}\n",
    "\n",
    "menu_item = \"pizza\"\n",
    "ingrediant = \"potato\", \"onion\"\n",
    "quantity = (\"1000\",\"1\")\n",
    "if \"potato\" in inventory:\n",
    "    print(\"Yes\")\n",
    "else:\n",
    "    print(\"No\")\n",
    "\n"
   ]
  },
  {
   "cell_type": "code",
   "execution_count": null,
   "metadata": {},
   "outputs": [
    {
     "ename": "NameError",
     "evalue": "name 'menu' is not defined",
     "output_type": "error",
     "traceback": [
      "\u001b[1;31m---------------------------------------------------------------------------\u001b[0m",
      "\u001b[1;31mNameError\u001b[0m                                 Traceback (most recent call last)",
      "Cell \u001b[1;32mIn[1], line 1\u001b[0m\n\u001b[1;32m----> 1\u001b[0m \u001b[38;5;28mlist\u001b[39m \u001b[38;5;241m=\u001b[39m \u001b[43mmenu\u001b[49m[menu_item][\u001b[38;5;124m'\u001b[39m\u001b[38;5;124mingrediant\u001b[39m\u001b[38;5;124m'\u001b[39m]\n\u001b[0;32m      2\u001b[0m element \u001b[38;5;241m=\u001b[39m \u001b[38;5;124m\"\u001b[39m\u001b[38;5;124mpotato\u001b[39m\u001b[38;5;124m\"\u001b[39m\n\u001b[0;32m      3\u001b[0m tmp \u001b[38;5;241m=\u001b[39m \u001b[38;5;241m0\u001b[39m\n",
      "\u001b[1;31mNameError\u001b[0m: name 'menu' is not defined"
     ]
    }
   ],
   "source": [
    "list = menu[menu_item]['ingrediant']\n",
    "element = \"potato\"\n",
    "tmp = 0\n",
    "indx = -1\n",
    "for i in list:\n",
    "    if i== element:\n",
    "        indx=tmp\n",
    "    else:\n",
    "        tmp+=1\n",
    "if indx == -1:\n",
    "    print(\"not found\")\n",
    "else:\n",
    "    print(f\"Found at {indx}\")"
   ]
  }
 ],
 "metadata": {
  "kernelspec": {
   "display_name": "Python 3",
   "language": "python",
   "name": "python3"
  },
  "language_info": {
   "codemirror_mode": {
    "name": "ipython",
    "version": 3
   },
   "file_extension": ".py",
   "mimetype": "text/x-python",
   "name": "python",
   "nbconvert_exporter": "python",
   "pygments_lexer": "ipython3",
   "version": "3.10.10"
  }
 },
 "nbformat": 4,
 "nbformat_minor": 2
}
