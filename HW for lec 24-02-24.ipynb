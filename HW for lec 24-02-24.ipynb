{
 "cells": [
  {
   "cell_type": "markdown",
   "metadata": {},
   "source": [
    "# Using String "
   ]
  },
  {
   "cell_type": "code",
   "execution_count": 13,
   "metadata": {},
   "outputs": [
    {
     "name": "stdout",
     "output_type": "stream",
     "text": [
      "This a test string to test the candidate\n",
      "True\n"
     ]
    }
   ],
   "source": [
    "#string slicing\n",
    "\n",
    "base_input_ = \"This is a test string to test the candidate\"\n",
    "myinpt_ = base_input_[:3] + base_input_[6:];\n",
    "resulting = \"This a test string to test the candidate\";\n",
    "print(myinpt_)\n",
    "\n",
    "print(myinpt_ == resulting)\n"
   ]
  },
  {
   "cell_type": "code",
   "execution_count": 26,
   "metadata": {},
   "outputs": [
    {
     "name": "stdout",
     "output_type": "stream",
     "text": [
      "Tha test string to test the candidate\n"
     ]
    }
   ],
   "source": [
    "#string.replace()\n",
    "\n",
    "base_input_ = \"This is a test string to  test the candidate\"\n",
    "myinpt_ = base_input_.replace(\"is \", \"\")\n",
    "resulting = \"This a test string to test the candidate\"\n",
    "print(myinpt_)\n"
   ]
  },
  {
   "cell_type": "code",
   "execution_count": 31,
   "metadata": {},
   "outputs": [
    {
     "name": "stdout",
     "output_type": "stream",
     "text": [
      "This a test string to test the is candidate\n"
     ]
    }
   ],
   "source": [
    "#Remove fun\n",
    "\n",
    "input_ = \"This is a test string  to test the  is candidate\"\n",
    "words = input_.split()\n",
    "words.remove(\"is\")\n",
    "resulting = ' '.join(words)\n",
    "\n",
    "print(resulting)"
   ]
  },
  {
   "cell_type": "code",
   "execution_count": 9,
   "metadata": {},
   "outputs": [
    {
     "name": "stdout",
     "output_type": "stream",
     "text": [
      "This a test string to test the candidate\n"
     ]
    }
   ],
   "source": [
    "# Uisng Length \n",
    "\n",
    "input_ = \"This is a test string to test the candidate\"\n",
    "resulting = input_[:4] + input_[7:]\n",
    "print(resulting)"
   ]
  },
  {
   "cell_type": "code",
   "execution_count": 55,
   "metadata": {},
   "outputs": [
    {
     "name": "stdout",
     "output_type": "stream",
     "text": [
      "This a test string to test the candidate\n"
     ]
    }
   ],
   "source": [
    "input_ = \"This is a test string to test the candidate\"\n",
    "resulting = input_[:input_.find(' is ')] + input_[input_.find(' is ') + len(' is'):]\n",
    "print(resulting)"
   ]
  },
  {
   "cell_type": "code",
   "execution_count": 59,
   "metadata": {},
   "outputs": [
    {
     "name": "stdout",
     "output_type": "stream",
     "text": [
      "13\n",
      "18\n",
      "Final ouput is ===    Test for the entire class\n"
     ]
    }
   ],
   "source": [
    "input_ = \"Test for the whole class\"\n",
    "word_replace = \"whole\"\n",
    "replacement = \"entire\"\n",
    "\n",
    "start_index = input_.find(word_replace)\n",
    "end_index = start_index + len(word_replace)\n",
    "\n",
    "output = input_[:start_index] + replacement + input_[end_index:]\n",
    "\n",
    "print(start_index)\n",
    "print(end_index)\n",
    "\n",
    "print(\"Final ouput is ===   \",output)\n"
   ]
  },
  {
   "cell_type": "code",
   "execution_count": 17,
   "metadata": {},
   "outputs": [],
   "source": [
    "input_ = \"Test for the whole class\"\n",
    "output = \"Test for the entire class.\""
   ]
  },
  {
   "cell_type": "code",
   "execution_count": 20,
   "metadata": {},
   "outputs": [
    {
     "name": "stdout",
     "output_type": "stream",
     "text": [
      "Test for the \n"
     ]
    }
   ],
   "source": [
    "input_ = \"Test for the whole class\"\n",
    "resulting = input_[:13] + input_[]\n",
    "print(resulting)"
   ]
  },
  {
   "cell_type": "code",
   "execution_count": 43,
   "metadata": {},
   "outputs": [
    {
     "name": "stdout",
     "output_type": "stream",
     "text": [
      "Test for the entire class.\n"
     ]
    }
   ],
   "source": [
    "input_ = \"Test for the whole class\"\n",
    "words = input_.split()\n",
    "words.remove(\"whole\")\n",
    "resulting = ' '.join(words)\n",
    "output = resulting.replace(\"class\", \"entire class.\")\n",
    "\n",
    "print(output)\n"
   ]
  },
  {
   "cell_type": "code",
   "execution_count": 22,
   "metadata": {},
   "outputs": [
    {
     "name": "stdout",
     "output_type": "stream",
     "text": [
      "Test for theclass\n"
     ]
    }
   ],
   "source": [
    "input_ = \"Test for the whole class\"\n",
    "resulting = input_[:input_.find(' whole ')] + input_[input_.find(' whole ') + len(' whole '):]\n",
    "output = resulting.replace(\"whole\", \"entire\") \n",
    "\n",
    "print(output)\n"
   ]
  },
  {
   "cell_type": "code",
   "execution_count": 42,
   "metadata": {},
   "outputs": [
    {
     "name": "stdout",
     "output_type": "stream",
     "text": [
      "Test for the entire  class\n"
     ]
    }
   ],
   "source": [
    "input_ = \"Test for the whole of class\"\n",
    "resulting = input_[:input_.find(' whole ')] + \" entire \" + input_[input_.find(' class'):]\n",
    "print(resulting)\n"
   ]
  },
  {
   "cell_type": "code",
   "execution_count": 39,
   "metadata": {},
   "outputs": [
    {
     "name": "stdout",
     "output_type": "stream",
     "text": [
      "Test for the entire class\n"
     ]
    }
   ],
   "source": [
    "input_ = \"Test for the whole class\"\n",
    "resulting = input_[:13] + \"entire\" + input_[18:]\n",
    "print(resulting)\n"
   ]
  },
  {
   "cell_type": "code",
   "execution_count": 45,
   "metadata": {},
   "outputs": [
    {
     "name": "stdout",
     "output_type": "stream",
     "text": [
      "Test for  whoentireass\n"
     ]
    }
   ],
   "source": [
    "input_ = \"Test for  whole class\"\n",
    "substring_to_remove = \"whole\"\n",
    "output = input_[:len(\"Test for the \")] + \"entire\" + input_[len(\"Test for the \" + substring_to_remove):]\n",
    "print(output)\n"
   ]
  },
  {
   "cell_type": "code",
   "execution_count": 53,
   "metadata": {},
   "outputs": [
    {
     "name": "stdout",
     "output_type": "stream",
     "text": [
      "Test for the wholeentires\n"
     ]
    }
   ],
   "source": [
    "input_ = \"Test for the whole class\"\n",
    "output = input_[:18] + \"entire\" + input_[18 + len(\"whole\"):]\n",
    "print(output)\n"
   ]
  },
  {
   "cell_type": "markdown",
   "metadata": {},
   "source": [
    "New"
   ]
  },
  {
   "cell_type": "code",
   "execution_count": null,
   "metadata": {},
   "outputs": [],
   "source": [
    "#enter(1) --- enter function\n",
    "#enter(3)\n",
    "#enter(2)\n",
    "#status() == \"3 2 1\"\n",
    "#exit() == 1\n",
    "#exit() == 2\n",
    "#exit() == 3"
   ]
  },
  {
   "cell_type": "code",
   "execution_count": 1,
   "metadata": {},
   "outputs": [
    {
     "ename": "IndentationError",
     "evalue": "expected an indented block after 'if' statement on line 3 (117246065.py, line 4)",
     "output_type": "error",
     "traceback": [
      "\u001b[1;36m  Cell \u001b[1;32mIn[1], line 4\u001b[1;36m\u001b[0m\n\u001b[1;33m    status = enter_sequence[::-1]\u001b[0m\n\u001b[1;37m    ^\u001b[0m\n\u001b[1;31mIndentationError\u001b[0m\u001b[1;31m:\u001b[0m expected an indented block after 'if' statement on line 3\n"
     ]
    }
   ],
   "source": [
    "enter_sequence = [1,2,3]\n",
    "flag =0\n",
    "if flag == 0:\n",
    "status = enter_sequence[::-1]\n",
    "print (f\"Status: {status}\")\n",
    "flag = 1\n",
    "if flag == 1:\n",
    "exit_sequence = enter_sequence\n",
    "print(f\"Exit Sequence: {exit_sequence}\")"
   ]
  },
  {
   "cell_type": "code",
   "execution_count": 3,
   "metadata": {},
   "outputs": [
    {
     "name": "stdout",
     "output_type": "stream",
     "text": [
      "8\n"
     ]
    }
   ],
   "source": [
    "def add_numbers(a, b=5): \n",
    "\n",
    " return a + b \n",
    "\n",
    "result = add_numbers(3) \n",
    "print(result)"
   ]
  }
 ],
 "metadata": {
  "kernelspec": {
   "display_name": "Python 3",
   "language": "python",
   "name": "python3"
  },
  "language_info": {
   "codemirror_mode": {
    "name": "ipython",
    "version": 3
   },
   "file_extension": ".py",
   "mimetype": "text/x-python",
   "name": "python",
   "nbconvert_exporter": "python",
   "pygments_lexer": "ipython3",
   "version": "3.12.2"
  }
 },
 "nbformat": 4,
 "nbformat_minor": 2
}
