{
 "cells": [
  {
   "cell_type": "code",
   "execution_count": 1,
   "metadata": {},
   "outputs": [],
   "source": [
    "hw_inventory = {\n",
    "    \"Potato\": {\"price\": 10, \"Qty\": 2, \"Unit\": 'kg'},\n",
    "    \"Onion\": {\"price\": 20, \"Qty\": 3000, \"Unit\": 'g'}\n",
    "}"
   ]
  },
  {
   "cell_type": "code",
   "execution_count": 3,
   "metadata": {},
   "outputs": [],
   "source": [
    "hw_menu = {\n",
    "    \"Pizza\": {\n",
    "            \"ingredients\": (\"Tomato\", \"Onion\"),\n",
    "            \"quantities\": (300, 2),\n",
    "            \"units\": (\"g\", \"kg\")\n",
    "        },\n",
    "    \"Burger\": {\n",
    "            \"ingredients\": (\"Lettuce\", \"Onion\"),\n",
    "            \"quantities\": (300, 2),\n",
    "            \"units\": (\"g\", \"kg\")\n",
    "        },\n",
    "    \"Pani puri\":{\n",
    "            \"ingredients\": (\"Potato\", \"Rawa\"),\n",
    "            \"quantities\": (300, 2),\n",
    "            \"units\": (\"g\", \"kg\")\n",
    "        },\n",
    "}"
   ]
  },
  {
   "cell_type": "code",
   "execution_count": 5,
   "metadata": {},
   "outputs": [
    {
     "name": "stdout",
     "output_type": "stream",
     "text": [
      "Doable\n",
      "Price of Onion  used in Pizza is: 100.0\n"
     ]
    }
   ],
   "source": [
    "menu_item = 'Pizza'\n",
    "menu_ingredients = 'Onion'\n",
    "quantity_needed = 0\n",
    "ingredient_no = 0\n",
    "\n",
    "hw_inventory = {\n",
    "    'Onion': (500, 'g')  # Example: 500 grams of onion in inventory\n",
    "}\n",
    "\n",
    "hw_menu = {\n",
    "    'Pizza': [\n",
    "        {'name': 'Onion', 'quantity': 200, 'unit': 'g'}\n",
    "    ]\n",
    "}\n",
    "\n",
    "if menu_ingredients in hw_inventory:\n",
    "    if hw_menu[menu_item][ingredient_no]['unit'] == 'g':\n",
    "        # Convert quantity needed from grams to kilograms\n",
    "        quantity_needed = hw_menu[menu_item][ingredient_no]['quantity'] / 1000\n",
    "\n",
    "    if quantity_needed <= hw_inventory[menu_ingredients][0]:\n",
    "        print(\"Doable\")\n",
    "        price = quantity_needed * hw_inventory[menu_ingredients][0]\n",
    "        print(\"Price of\", menu_ingredients, ' used in Pizza is:', price)\n",
    "    else:\n",
    "        print(\"Not Doable\")\n",
    "else:\n",
    "    print(\"Ingredients not found in inventory\")"
   ]
  }
 ],
 "metadata": {
  "kernelspec": {
   "display_name": "Python 3",
   "language": "python",
   "name": "python3"
  },
  "language_info": {
   "codemirror_mode": {
    "name": "ipython",
    "version": 3
   },
   "file_extension": ".py",
   "mimetype": "text/x-python",
   "name": "python",
   "nbconvert_exporter": "python",
   "pygments_lexer": "ipython3",
   "version": "3.10.10"
  }
 },
 "nbformat": 4,
 "nbformat_minor": 2
}
